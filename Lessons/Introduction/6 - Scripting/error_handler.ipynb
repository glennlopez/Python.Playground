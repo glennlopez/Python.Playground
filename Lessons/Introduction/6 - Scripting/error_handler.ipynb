{
 "cells": [
  {
   "cell_type": "markdown",
   "source": [
    "## Handling Exception Errors in Python\n",
    "Two types of errors exist in python, *Syntax Errors* and *Exception Errors*. Exception errors \n",
    "occur when unexpected things happen during runtime. Syntax error is an error due to programming\n",
    "incorrectly, preventing the code from being run. We can handle Exception errors when they occur \n",
    "during runtime and keep the program running when an Exception is thrown. \n",
    "We do this using the *Try* method.\n",
    "</br></br>\n",
    "In a *Try:* statement, the code inside the statement is ran first. If the code in *try:*\n",
    "has any issues during runtime, the block of code inside except will execute."
   ],
   "metadata": {
    "collapsed": false,
    "pycharm": {
     "name": "#%% md\n"
    }
   }
  },
  {
   "cell_type": "code",
   "execution_count": 11,
   "metadata": {
    "collapsed": true,
    "pycharm": {
     "is_executing": false,
     "name": "#%%\n"
    }
   },
   "outputs": [
    {
     "name": "stdout",
     "text": [
      "No errors: 10\n"
     ],
     "output_type": "stream"
    }
   ],
   "source": [
    "try: \n",
    "    x = int(input('Enter a Number: '))\n",
    "    print(\"No errors: {}\".format(x))\n",
    "\n",
    "except:\n",
    "    # Input a string instead of a number to get to trigger this exception\n",
    "    print('Error occurred during runtime.')\n",
    "    "
   ]
  },
  {
   "cell_type": "markdown",
   "source": [
    "If we want the code above to run until a valid input is made, we can wrap the *try:* method inside\n",
    "a while loop, and break away from it when the condition is met."
   ],
   "metadata": {
    "collapsed": false
   }
  },
  {
   "cell_type": "code",
   "execution_count": 13,
   "outputs": [
    {
     "name": "stdout",
     "text": [
      "Error occurred during runtime.\nAttempted Input\n",
      "Error occurred during runtime.\nAttempted Input\n",
      "No errors, heres your number back: 10\n"
     ],
     "output_type": "stream"
    }
   ],
   "source": [
    "while True:\n",
    "    \n",
    "    try:\n",
    "        y = int(input('Enter a Number: '))\n",
    "        print(\"No errors, heres your number back: {}\".format(y))\n",
    "        break\n",
    "    except:\n",
    "        print('Error occurred during runtime.')\n",
    "        \n",
    "    print('Attempted Input')"
   ],
   "metadata": {
    "collapsed": false,
    "pycharm": {
     "name": "#%%\n",
     "is_executing": false
    }
   }
  },
  {
   "cell_type": "markdown",
   "source": [
    "If you want the **print('Attempted Input')** to execute under any condition, we can make use of *finally:*.\n",
    "*Finally:* is extremly usefuly when we are openning a file in python, but need to close that same file whether or not\n",
    "the code throws an exception."
   ],
   "metadata": {
    "collapsed": false
   }
  },
  {
   "cell_type": "code",
   "execution_count": 15,
   "outputs": [
    {
     "name": "stdout",
     "text": [
      "Error occurred during runtime.\nAttempted Input\n",
      "Error occurred during runtime.\nAttempted Input\n",
      "Error occurred during runtime.\nAttempted Input\n",
      "No errors, heres your number back: 40\nAttempted Input\n"
     ],
     "output_type": "stream"
    }
   ],
   "source": [
    "while True:\n",
    "    \n",
    "    try:\n",
    "        z = int(input('Enter a Number: '))\n",
    "        print(\"No errors, heres your number back: {}\".format(z))\n",
    "        break\n",
    "    except:\n",
    "        print('Error occurred during runtime.')\n",
    "        \n",
    "    finally:\n",
    "        print('Attempted Input')\n"
   ],
   "metadata": {
    "collapsed": false,
    "pycharm": {
     "name": "#%%\n",
     "is_executing": false
    }
   }
  },
  {
   "cell_type": "markdown",
   "source": [
    "## Specifying Which Exceptions to Handle\n",
    "We can also specify the type of exception to handle and create multiple exception handlers in python."
   ],
   "metadata": {
    "collapsed": false
   }
  },
  {
   "cell_type": "code",
   "execution_count": 1,
   "outputs": [
    {
     "name": "stdout",
     "text": [
      "Incorrect Value Input Error.\n\nInput was taken.\n\n",
      "Incorrect Value Input Error.\n\nInput was taken.\n\n",
      "No exception raised, here is your number back: 10\n\nInput was taken.\n\n"
     ],
     "output_type": "stream"
    }
   ],
   "source": [
    "while True:\n",
    "    try:\n",
    "        a = int(input('Enter a number: '))\n",
    "        print('No exception raised, here is your number back: {}\\n'.format(a))\n",
    "        break\n",
    "\n",
    "    except ValueError:\n",
    "        print('Incorrect Value Input Error.\\n')\n",
    "\n",
    "    except KeyboardInterrupt:\n",
    "        print('Keyboard interupted, program is now exiting...\\n')\n",
    "        break\n",
    "\n",
    "    finally:\n",
    "        print('Input was taken.\\n')\n"
   ],
   "metadata": {
    "collapsed": false,
    "pycharm": {
     "name": "#%%\n",
     "is_executing": false
    }
   }
  }
 ],
 "metadata": {
  "kernelspec": {
   "display_name": "Python 3",
   "language": "python",
   "name": "python3"
  },
  "language_info": {
   "codemirror_mode": {
    "name": "ipython",
    "version": 2
   },
   "file_extension": ".py",
   "mimetype": "text/x-python",
   "name": "python",
   "nbconvert_exporter": "python",
   "pygments_lexer": "ipython2",
   "version": "2.7.6"
  },
  "pycharm": {
   "stem_cell": {
    "cell_type": "raw",
    "source": [],
    "metadata": {
     "collapsed": false
    }
   }
  }
 },
 "nbformat": 4,
 "nbformat_minor": 0
}