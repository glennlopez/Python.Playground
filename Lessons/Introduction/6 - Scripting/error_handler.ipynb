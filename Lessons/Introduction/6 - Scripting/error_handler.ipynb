{
 "cells": [
  {
   "cell_type": "markdown",
   "source": [
    "## Handling Exception Errors in Python\n",
    "Two types of errors exist in python, *Syntax Errors* and *Exception Errors*. Exception errors \n",
    "occur when unexpected things happen during runtime. Syntax error is an error due to programming\n",
    "incorrectly, preventing the code from being run. We can handle Exception errors when they occur \n",
    "during runtime and keep the program running when an Exception is thrown. \n",
    "We do this using the *Try* method.\n",
    "</br></br>\n",
    "In a *Try:* statement, the code inside the statement is ran first. If the code in *try:*\n",
    "has any issues during runtime, the block of code inside except will execute."
   ],
   "metadata": {
    "collapsed": false,
    "pycharm": {
     "name": "#%% md\n"
    }
   }
  },
  {
   "cell_type": "code",
   "execution_count": 11,
   "metadata": {
    "collapsed": true,
    "pycharm": {
     "is_executing": false,
     "name": "#%%\n"
    }
   },
   "outputs": [
    {
     "name": "stdout",
     "text": [
      "No errors: 10\n"
     ],
     "output_type": "stream"
    }
   ],
   "source": [
    "try: \n",
    "    x = int(input('Enter a Number: '))\n",
    "    print(\"No errors: {}\".format(x))\n",
    "\n",
    "except:\n",
    "    # Input a string instead of a number to get to trigger this exception\n",
    "    print('Error occurred during runtime.')\n",
    "    "
   ]
  },
  {
   "cell_type": "markdown",
   "source": [
    "If we want the code above to run until a valid input is made, we can wrap the *try:* method inside\n",
    "a while loop, and break away from it when the condition is met."
   ],
   "metadata": {
    "collapsed": false
   }
  },
  {
   "cell_type": "code",
   "execution_count": 13,
   "outputs": [
    {
     "name": "stdout",
     "text": [
      "Error occurred during runtime.\nAttempted Input\n",
      "Error occurred during runtime.\nAttempted Input\n",
      "No errors, heres your number back: 10\n"
     ],
     "output_type": "stream"
    }
   ],
   "source": [
    "while True:\n",
    "    \n",
    "    try:\n",
    "        y = int(input('Enter a Number: '))\n",
    "        print(\"No errors, heres your number back: {}\".format(y))\n",
    "        break\n",
    "    except:\n",
    "        print('Error occurred during runtime.')\n",
    "        \n",
    "    print('Attempted Input')"
   ],
   "metadata": {
    "collapsed": false,
    "pycharm": {
     "name": "#%%\n",
     "is_executing": false
    }
   }
  },
  {
   "cell_type": "markdown",
   "source": [
    "If you want the **print('Attempted Input')** to execute under any condition, we can make use of *finally:*.\n",
    "*Finally:* is extremly usefuly when we are openning a file in python, but need to close that same file whether or not\n",
    "the code throws an exception."
   ],
   "metadata": {
    "collapsed": false
   }
  },
  {
   "cell_type": "code",
   "execution_count": 15,
   "outputs": [
    {
     "name": "stdout",
     "text": [
      "Error occurred during runtime.\nAttempted Input\n",
      "Error occurred during runtime.\nAttempted Input\n",
      "Error occurred during runtime.\nAttempted Input\n",
      "No errors, heres your number back: 40\nAttempted Input\n"
     ],
     "output_type": "stream"
    }
   ],
   "source": [
    "while True:\n",
    "    \n",
    "    try:\n",
    "        z = int(input('Enter a Number: '))\n",
    "        print(\"No errors, heres your number back: {}\".format(z))\n",
    "        break\n",
    "    except:\n",
    "        print('Error occurred during runtime.')\n",
    "        \n",
    "    finally:\n",
    "        print('Attempted Input')\n"
   ],
   "metadata": {
    "collapsed": false,
    "pycharm": {
     "name": "#%%\n",
     "is_executing": false
    }
   }
  },
  {
   "cell_type": "markdown",
   "source": [
    "## Specifying Which Exceptions to Handle\n",
    "We can also specify the type of exception to handle and create multiple exception handlers in python."
   ],
   "metadata": {
    "collapsed": false
   }
  },
  {
   "cell_type": "code",
   "execution_count": 1,
   "outputs": [
    {
     "name": "stdout",
     "text": [
      "Incorrect Value Input Error.\n\nInput was taken.\n\n",
      "Incorrect Value Input Error.\n\nInput was taken.\n\n",
      "No exception raised, here is your number back: 10\n\nInput was taken.\n\n"
     ],
     "output_type": "stream"
    }
   ],
   "source": [
    "while True:\n",
    "    try:\n",
    "        a = int(input('Enter a number: '))\n",
    "        print('No exception raised, here is your number back: {}\\n'.format(a))\n",
    "        break\n",
    "\n",
    "    except ValueError:\n",
    "        print('Incorrect Value Input Error.\\n')\n",
    "\n",
    "    except KeyboardInterrupt:\n",
    "        print('Keyboard interupted, program is now exiting...\\n')\n",
    "        break\n",
    "\n",
    "    finally:\n",
    "        print('Input was taken.\\n')"
   ],
   "metadata": {
    "collapsed": false,
    "pycharm": {
     "name": "#%%\n",
     "is_executing": false
    }
   }
  },
  {
   "cell_type": "markdown",
   "source": [
    "## Examples of Handling Errors\n",
    "Below is an example of a function that divides cookies between number of people. It takes in *cookies* and *people* as\n",
    "an argument to do a simple calculation, outputting the number of cookies each person will have, and the remainder after \n",
    "the cookies are evenly divided between each person. \n",
    "</br></br>\n",
    "But what happens if we set *people = 0*? We get an _exception_... Reading the error, we notice that its \n",
    "a **ZeroDivisionError: integer division or modulo by zero**. "
   ],
   "metadata": {
    "collapsed": false
   }
  },
  {
   "cell_type": "code",
   "execution_count": 2,
   "outputs": [
    {
     "traceback": [
      "\u001b[0;31m---------------------------------------------------------------------------\u001b[0m",
      "\u001b[0;31mZeroDivisionError\u001b[0m                         Traceback (most recent call last)",
      "\u001b[0;32m<ipython-input-2-7ca8478a924a>\u001b[0m in \u001b[0;36m<module>\u001b[0;34m\u001b[0m\n\u001b[1;32m      5\u001b[0m     \u001b[0;32mreturn\u001b[0m\u001b[0;34m(\u001b[0m\u001b[0mnum_each\u001b[0m\u001b[0;34m,\u001b[0m \u001b[0mleftovers\u001b[0m\u001b[0;34m)\u001b[0m\u001b[0;34m\u001b[0m\u001b[0;34m\u001b[0m\u001b[0m\n\u001b[1;32m      6\u001b[0m \u001b[0;34m\u001b[0m\u001b[0m\n\u001b[0;32m----> 7\u001b[0;31m \u001b[0mnum_each\u001b[0m\u001b[0;34m,\u001b[0m \u001b[0mleftover\u001b[0m \u001b[0;34m=\u001b[0m \u001b[0mparty_planner\u001b[0m\u001b[0;34m(\u001b[0m\u001b[0;36m100\u001b[0m\u001b[0;34m,\u001b[0m\u001b[0;36m0\u001b[0m\u001b[0;34m)\u001b[0m\u001b[0;34m\u001b[0m\u001b[0;34m\u001b[0m\u001b[0m\n\u001b[0m\u001b[1;32m      8\u001b[0m \u001b[0mprint\u001b[0m\u001b[0;34m(\u001b[0m\u001b[0;34m\"Number of cookies each: {}\"\u001b[0m\u001b[0;34m.\u001b[0m\u001b[0mformat\u001b[0m\u001b[0;34m(\u001b[0m\u001b[0mnum_each\u001b[0m\u001b[0;34m)\u001b[0m\u001b[0;34m)\u001b[0m\u001b[0;34m\u001b[0m\u001b[0;34m\u001b[0m\u001b[0m\n\u001b[1;32m      9\u001b[0m \u001b[0mprint\u001b[0m\u001b[0;34m(\u001b[0m\u001b[0;34m\"Number of cookies left: {}\"\u001b[0m\u001b[0;34m.\u001b[0m\u001b[0mformat\u001b[0m\u001b[0;34m(\u001b[0m\u001b[0mleftover\u001b[0m\u001b[0;34m)\u001b[0m\u001b[0;34m)\u001b[0m\u001b[0;34m\u001b[0m\u001b[0;34m\u001b[0m\u001b[0m\n",
      "\u001b[0;32m<ipython-input-2-7ca8478a924a>\u001b[0m in \u001b[0;36mparty_planner\u001b[0;34m(cookies, people)\u001b[0m\n\u001b[1;32m      1\u001b[0m \u001b[0;32mdef\u001b[0m \u001b[0mparty_planner\u001b[0m\u001b[0;34m(\u001b[0m\u001b[0mcookies\u001b[0m\u001b[0;34m,\u001b[0m \u001b[0mpeople\u001b[0m\u001b[0;34m)\u001b[0m\u001b[0;34m:\u001b[0m\u001b[0;34m\u001b[0m\u001b[0;34m\u001b[0m\u001b[0m\n\u001b[0;32m----> 2\u001b[0;31m     \u001b[0mnum_each\u001b[0m \u001b[0;34m=\u001b[0m \u001b[0mcookies\u001b[0m \u001b[0;34m//\u001b[0m \u001b[0mpeople\u001b[0m\u001b[0;34m\u001b[0m\u001b[0;34m\u001b[0m\u001b[0m\n\u001b[0m\u001b[1;32m      3\u001b[0m     \u001b[0mleftovers\u001b[0m \u001b[0;34m=\u001b[0m \u001b[0mcookies\u001b[0m \u001b[0;34m%\u001b[0m \u001b[0mpeople\u001b[0m\u001b[0;34m\u001b[0m\u001b[0;34m\u001b[0m\u001b[0m\n\u001b[1;32m      4\u001b[0m \u001b[0;34m\u001b[0m\u001b[0m\n\u001b[1;32m      5\u001b[0m     \u001b[0;32mreturn\u001b[0m\u001b[0;34m(\u001b[0m\u001b[0mnum_each\u001b[0m\u001b[0;34m,\u001b[0m \u001b[0mleftovers\u001b[0m\u001b[0;34m)\u001b[0m\u001b[0;34m\u001b[0m\u001b[0;34m\u001b[0m\u001b[0m\n",
      "\u001b[0;31mZeroDivisionError\u001b[0m: integer division or modulo by zero"
     ],
     "ename": "ZeroDivisionError",
     "evalue": "integer division or modulo by zero",
     "output_type": "error"
    }
   ],
   "source": [
    "def party_planner(cookies, people):\n",
    "    num_each = cookies // people\n",
    "    leftovers = cookies % people\n",
    "\n",
    "    return(num_each, leftovers)\n",
    "\n",
    "num_each, leftover = party_planner(100,0)\n",
    "print(\"Number of cookies each: {}\".format(num_each))\n",
    "print(\"Number of cookies left: {}\".format(leftover))"
   ],
   "metadata": {
    "collapsed": false,
    "pycharm": {
     "name": "#%%\n",
     "is_executing": false
    }
   }
  },
  {
   "cell_type": "markdown",
   "source": [
    "We can take *ZeroDivisionError* and do a *try: / exception ZeroDivisionError:\"* to handle the error during runtime. \n",
    "As per example below:"
   ],
   "metadata": {
    "collapsed": false,
    "pycharm": {
     "name": "#%% md\n"
    }
   }
  },
  {
   "cell_type": "code",
   "execution_count": 4,
   "outputs": [
    {
     "name": "stdout",
     "text": [
      "Oops, you entered 0 people will be attending.\nPlease enter a good number of people for a party.\nNumber of cookies each: None\nNumber of cookies left: None\n"
     ],
     "output_type": "stream"
    }
   ],
   "source": [
    "def party_planner(cookies, people):\n",
    "    leftovers = None\n",
    "    num_each = None\n",
    "\n",
    "    try:\n",
    "        num_each = cookies // people\n",
    "        leftovers = cookies % people\n",
    "        \n",
    "    except ZeroDivisionError:\n",
    "        print(\"Oops, you entered 0 people will be attending.\")\n",
    "        print(\"Please enter a good number of people for a party.\")\n",
    "\n",
    "    return(num_each, leftovers)\n",
    "\n",
    "num_each, leftover = party_planner(100,0)\n",
    "print(\"Number of cookies each: {}\".format(num_each))\n",
    "print(\"Number of cookies left: {}\".format(leftover))\n"
   ],
   "metadata": {
    "collapsed": false,
    "pycharm": {
     "name": "#%%\n",
     "is_executing": false
    }
   }
  },
  {
   "cell_type": "markdown",
   "source": [
    "Notice how the error is handled during runtime, telling the user they did something wrong, letting the program continue\n",
    "even with user input error. We can do the same for when a user decides to input a letter instead of a number.\n",
    "</br></br> \n",
    "We can extend this further being more informative by *Accessing Error Messages* and displaying them to the user.\n",
    " "
   ],
   "metadata": {
    "collapsed": false
   }
  },
  {
   "cell_type": "code",
   "execution_count": 5,
   "outputs": [
    {
     "name": "stdout",
     "text": [
      "Oops, you entered 0 people will be attending.\nPlease enter a good number of people for a party.\nError Message: integer division or modulo by zero\nNumber of cookies each: None\nNumber of cookies left: None\n"
     ],
     "output_type": "stream"
    }
   ],
   "source": [
    "def party_planner(cookies, people):\n",
    "    leftovers = None\n",
    "    num_each = None\n",
    "\n",
    "    try:\n",
    "        num_each = cookies // people\n",
    "        leftovers = cookies % people\n",
    "    \n",
    "    # here we can add 'as e' after the error name to place the error in a var    \n",
    "    except ZeroDivisionError as e:\n",
    "        print(\"Oops, you entered 0 people will be attending.\")\n",
    "        print(\"Please enter a good number of people for a party.\")\n",
    "        print(\"Error Message: {}\".format(e))\n",
    "\n",
    "    return(num_each, leftovers)\n",
    "\n",
    "num_each, leftover = party_planner(100,0)\n",
    "print(\"Number of cookies each: {}\".format(num_each))\n",
    "print(\"Number of cookies left: {}\".format(leftover))\n",
    "\n"
   ],
   "metadata": {
    "collapsed": false,
    "pycharm": {
     "name": "#%%\n",
     "is_executing": false
    }
   }
  }
 ],
 "metadata": {
  "kernelspec": {
   "display_name": "Python 3",
   "language": "python",
   "name": "python3"
  },
  "language_info": {
   "codemirror_mode": {
    "name": "ipython",
    "version": 2
   },
   "file_extension": ".py",
   "mimetype": "text/x-python",
   "name": "python",
   "nbconvert_exporter": "python",
   "pygments_lexer": "ipython2",
   "version": "2.7.6"
  },
  "pycharm": {
   "stem_cell": {
    "cell_type": "raw",
    "source": [],
    "metadata": {
     "collapsed": false
    }
   }
  }
 },
 "nbformat": 4,
 "nbformat_minor": 0
}