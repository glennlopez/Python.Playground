{
 "cells": [
  {
   "cell_type": "markdown",
   "metadata": {
    "collapsed": true,
    "pycharm": {
     "name": "#%% md\n"
    }
   },
   "source": [
    "We can get raw input from user using the *input()* built in function"
   ]
  },
  {
   "cell_type": "code",
   "execution_count": 11,
   "outputs": [
    {
     "data": {
      "text/plain": "'Glenn Lopez is my name'"
     },
     "metadata": {},
     "output_type": "execute_result",
     "execution_count": 11
    }
   ],
   "source": [
    "input('Enter name: ')"
   ],
   "metadata": {
    "collapsed": false,
    "pycharm": {
     "name": "#%%\n",
     "is_executing": false
    }
   }
  },
  {
   "cell_type": "markdown",
   "source": [
    "Further, we can assign this input to a variable, allowing us to work with the variable later"
   ],
   "metadata": {
    "collapsed": false
   }
  },
  {
   "cell_type": "code",
   "execution_count": 12,
   "outputs": [
    {
     "name": "stdout",
     "text": [
      "Hello Glenn Lopez, Foo Bar\n"
     ],
     "output_type": "stream"
    }
   ],
   "source": [
    "user_names = input('Enter name: ')\n",
    "print(\"Hello {}\".format(user_names))"
   ],
   "metadata": {
    "collapsed": false,
    "pycharm": {
     "name": "#%%\n",
     "is_executing": false
    }
   }
  },
  {
   "cell_type": "markdown",
   "source": [
    "Better yet, we can actually take in multiple inputs by making use of the *.split()* function. This .split() function\n",
    "takes the user input and places them inside a list, separated by a comma.\n",
    "\n",
    "Humans are prone to typos, a work-around this human limitation is to engineer a solution that handles typos. This is\n",
    "where the *.title()* function comes in handy. "
   ],
   "metadata": {
    "collapsed": false,
    "pycharm": {
     "name": "#%% md\n"
    }
   }
  },
  {
   "cell_type": "code",
   "execution_count": 10,
   "outputs": [
    {
     "name": "stdout",
     "text": [
      "List of students: ['Glenn Lopez', ' Foo Bar']\nName of the last student on the list:  Foo Bar\n"
     ],
     "output_type": "stream"
    }
   ],
   "source": [
    "student_names = input('Enter names: ').title().split(',')\n",
    "print(\"List of students: {}\".format(student_names))\n",
    "print(\"Name of the last student on the list: {}\".format(student_names[-1]))"
   ],
   "metadata": {
    "collapsed": false,
    "pycharm": {
     "name": "#%%\n",
     "is_executing": false
    }
   }
  },
  {
   "cell_type": "markdown",
   "source": [
    "Now that we are able to take in raw inputs from the user, let's create 3 variables *names*, *assignments*, and *grades*\n",
    "and assign them user input values. "
   ],
   "metadata": {
    "collapsed": false
   }
  },
  {
   "cell_type": "code",
   "execution_count": 15,
   "outputs": [
    {
     "name": "stdout",
     "text": [
      "Names: ['Glenn Lopez', ' Foo Bar']\nAssignments: ['1', '7']\nGrades: ['90', ' 67']\n"
     ],
     "output_type": "stream"
    }
   ],
   "source": [
    "names = input(\"Enter names separated by commas: \").title().split(',') # string\n",
    "assignments = input(\"Enter assignment counts separated by commas: \").split(',') # int\n",
    "grades = input(\"Enter grades separated by commas: \").split(',') # int\n",
    "\n",
    "print(\"Names: {}\".format(names))\n",
    "print(\"Assignments: {}\".format(assignments))\n",
    "print(\"Grades: {}\".format(grades))"
   ],
   "metadata": {
    "collapsed": false,
    "pycharm": {
     "name": "#%%\n",
     "is_executing": false
    }
   }
  },
  {
   "cell_type": "markdown",
   "source": [
    "Next we can group the 3 variables together inside a tuple by using *zip()*. This is useful when-ever we need to group\n",
    "more than one variable that are related to each other. In the case below, we want to combine the *Student's Name*, with \n",
    "*Assignments due*, and the *Grade* that they have in class."
   ],
   "metadata": {
    "collapsed": false
   }
  },
  {
   "cell_type": "code",
   "execution_count": 18,
   "outputs": [
    {
     "name": "stdout",
     "text": [
      "\nName: Glenn Lopez \nAssignments due: 1\nGrade: 90\n\n\nName:  Foo Bar \nAssignments due: 7\nGrade:  67\n\n"
     ],
     "output_type": "stream"
    }
   ],
   "source": [
    "for name, assignment, grade in zip(names, assignments, grades):\n",
    "    print(\"\\nName: {} \\nAssignments due: {}\\nGrade: {}\\n\".format(name, assignment, grade))\n"
   ],
   "metadata": {
    "collapsed": false,
    "pycharm": {
     "name": "#%%\n",
     "is_executing": false
    }
   }
  }
 ],
 "metadata": {
  "kernelspec": {
   "display_name": "Python 3",
   "language": "python",
   "name": "python3"
  },
  "language_info": {
   "codemirror_mode": {
    "name": "ipython",
    "version": 2
   },
   "file_extension": ".py",
   "mimetype": "text/x-python",
   "name": "python",
   "nbconvert_exporter": "python",
   "pygments_lexer": "ipython2",
   "version": "2.7.6"
  },
  "pycharm": {
   "stem_cell": {
    "cell_type": "raw",
    "source": [],
    "metadata": {
     "collapsed": false
    }
   }
  }
 },
 "nbformat": 4,
 "nbformat_minor": 0
}